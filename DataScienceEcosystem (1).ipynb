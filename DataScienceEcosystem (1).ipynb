{
 "cells": [
  {
   "cell_type": "markdown",
   "id": "92a9b979-be08-4271-8bcd-125cb903d453",
   "metadata": {},
   "source": [
    "# Data Science Tools and Ecosystem"
   ]
  },
  {
   "cell_type": "markdown",
   "id": "2b72b959-489c-41aa-9431-d289cf064433",
   "metadata": {},
   "source": [
    "In this notebook, Data Science Tools and Ecosystem are summarized"
   ]
  },
  {
   "cell_type": "markdown",
   "id": "8ec33437-0142-4630-8210-f058859a4962",
   "metadata": {},
   "source": [
    "**objectives:**\n",
    "\n",
    "* List popular languages for Data Science.\n",
    "* List some of the commonly used libraries by Data Scientists.\n",
    "* List some of the Data Science Tools.\n",
    "* Evaluate arithmetic expressions in Python.\n"
   ]
  },
  {
   "cell_type": "markdown",
   "id": "3367cec9-4cd9-48c7-be4b-e92ac60ab092",
   "metadata": {},
   "source": [
    "Some of the popular languages that Data Scientists use are:\n",
    "\n",
    "* Python\n",
    "* Java Script\n",
    "* Ruby"
   ]
  },
  {
   "cell_type": "markdown",
   "id": "2ef3f4b2-886b-4402-babc-3ce9c9986f87",
   "metadata": {},
   "source": [
    "Some of the commonly used libraries used by Data Scientists include:\n",
    "* TensorFlow\n",
    "* Pandas\n",
    "* Numeric Python\n",
    "* Scientific Python\n",
    "* Matplotlib\n"
   ]
  },
  {
   "cell_type": "markdown",
   "id": "e8c6e81b-20c9-4495-901d-c4b8ef3418dd",
   "metadata": {},
   "source": [
    "|data Science Tools|\n",
    "|------------------|\n",
    "| RStudio |\n",
    "| Jupyter labs |\n",
    "| Spyder |\n",
    "| Apache Zeppelin |"
   ]
  },
  {
   "cell_type": "markdown",
   "id": "f9217404-6a67-4fe0-af56-6154ceebf09e",
   "metadata": {
    "tags": []
   },
   "source": [
    "### Below are a few examples of evaluating arithmetic expressions in Python ###"
   ]
  },
  {
   "cell_type": "code",
   "execution_count": 3,
   "id": "20e16826-3903-4003-baa5-ebcf4a29dba0",
   "metadata": {
    "tags": []
   },
   "outputs": [
    {
     "data": {
      "text/plain": [
       "17"
      ]
     },
     "execution_count": 3,
     "metadata": {},
     "output_type": "execute_result"
    }
   ],
   "source": [
    "# This is a simple arithmetic expression to multiply and add integers\n",
    "(3*4)+5"
   ]
  },
  {
   "cell_type": "code",
   "execution_count": 5,
   "id": "307aaf33-a93b-4c33-9815-2998fc848145",
   "metadata": {
    "tags": []
   },
   "outputs": [
    {
     "data": {
      "text/plain": [
       "3.3333333333333335"
      ]
     },
     "execution_count": 5,
     "metadata": {},
     "output_type": "execute_result"
    }
   ],
   "source": [
    "# This will convert 200 minutes to hours by dividing by 60\n",
    "200/60"
   ]
  },
  {
   "cell_type": "markdown",
   "id": "00855691-dd45-4216-acc6-2db111b0ce4f",
   "metadata": {},
   "source": [
    "## Author\n",
    "Sumaiya Kareem"
   ]
  },
  {
   "cell_type": "code",
   "execution_count": null,
   "id": "3e5b70e9-26a3-49ab-9773-848cde7c5234",
   "metadata": {},
   "outputs": [],
   "source": []
  }
 ],
 "metadata": {
  "kernelspec": {
   "display_name": "Python",
   "language": "python",
   "name": "conda-env-python-py"
  },
  "language_info": {
   "codemirror_mode": {
    "name": "ipython",
    "version": 3
   },
   "file_extension": ".py",
   "mimetype": "text/x-python",
   "name": "python",
   "nbconvert_exporter": "python",
   "pygments_lexer": "ipython3",
   "version": "3.7.12"
  }
 },
 "nbformat": 4,
 "nbformat_minor": 5
}
